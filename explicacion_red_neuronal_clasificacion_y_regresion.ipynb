{
 "cells": [
  {
   "attachments": {},
   "cell_type": "markdown",
   "metadata": {},
   "source": [
    "# Introdución"
   ]
  },
  {
   "attachments": {},
   "cell_type": "markdown",
   "metadata": {},
   "source": [
    "En el sigueinte notebook se va abordar matematicamente y en la practica una red neuronal desde 0 para problemas de clasificación y regresión, exponiendo sus diferencias y semejanzas. Para el problema de clasificación este se basa totalmente en el notebook  de Pepe Cantoral, Ph.D. con modificaciones propias de algunas funciones  y  variables corrigiendo un error en el nombre de la varibles \n",
    "\n",
    " Encarecidamente recimiendo ver sus videos. Por otro lado el cuaderno de regresión es la aplicación de los conocimientos adquiridos con el problema de clasificación."
   ]
  },
  {
   "attachments": {},
   "cell_type": "markdown",
   "metadata": {},
   "source": [
    "# Matemática"
   ]
  },
  {
   "attachments": {},
   "cell_type": "markdown",
   "metadata": {},
   "source": [
    "### Definiendo el problema"
   ]
  },
  {
   "attachments": {},
   "cell_type": "markdown",
   "metadata": {},
   "source": [
    "El primer aspecto a entender en la entrada y salida que esperamos. Para el problema de clasificación con imagenes la entrada corresponde a cada pixel que la conforma pero no se puede ingresar una matriz a la red por lo tanto se debe transformar la imagen de una matriz a un vector dónde el tamaño va ser el alto y ancho de la imagen que en este caso es: 28X28 = 784 pixeles. Para la salida se espera valores entre el 0 y el 9 por lo que debería haber 10 neuronas (una por cada posibiliad). \n",
    "\n",
    "Una vez con las entradas y salidas claras, se debe plantear cuantas capas de neuroas se quieren para la red, además del numero de neuronas que compondra cada capa, para este caso será solo una capa con 200 neuronas. Con todos estos elementos ya se puede ilustrar la red, que sería la siguiente:\n",
    "\n"
   ]
  },
  {
   "attachments": {},
   "cell_type": "markdown",
   "metadata": {},
   "source": [
    "<img src=\"images\\red_clasificacion.png\">\n",
    "\n"
   ]
  },
  {
   "attachments": {},
   "cell_type": "markdown",
   "metadata": {},
   "source": [
    "Para el problema de regresión, se necesita una sola entrada y una sola salida, debido a que se desea emular la función f(x)=sen(x), y en la capa oculta se colocarón 100 neuronas."
   ]
  },
  {
   "attachments": {},
   "cell_type": "markdown",
   "metadata": {},
   "source": [
    "<img src=\"images\\red neuronal regresion.drawio.png\">"
   ]
  },
  {
   "attachments": {},
   "cell_type": "markdown",
   "metadata": {},
   "source": [
    "### Función de activación"
   ]
  },
  {
   "attachments": {},
   "cell_type": "markdown",
   "metadata": {},
   "source": [
    "Con la forma de la red clara, ahora se procederá a tratar las ecuaciones y para ello se simplicará la forma de la red. Como se puede observar en las figuras entran en factor dos piezas claves; Las funciones de activación que están representados por el cuadro en la salida de cada neurona y la función de perdida, represantada por el cuadro a la salida de la función de activación(Para el caso de la función de regresión, no existe una función de activación en la salida de la red por lo que se conceta directamente la neurona a la función de perdida).\n",
    "\n",
    " Las funciones de activación permiten restringir la salida de las neuroas para evitar que tome valores no deseados, además permite aprender patrones mas complejos debido a que son funciones No lineales. Esto es importante debido a que si tuvieramos las neuronas, sólo tendriamos una función lineal muy extravagante.\n",
    "\n",
    "\n",
    "Existen diversas funciones de activación y cada una de ellas son útilies para diversas tareas. Por ejemplo: para este notebook se trató con 3 funciones de activación diferentes, vamos a repasar sus propiedades:\n",
    "\n"
   ]
  },
  {
   "attachments": {},
   "cell_type": "markdown",
   "metadata": {},
   "source": [
    "<img src=\"images\\red_clasificacion_simplificado.drawio.png\">"
   ]
  },
  {
   "attachments": {},
   "cell_type": "markdown",
   "metadata": {},
   "source": [
    "<img src=\"images\\red_regresion_simplificado.drawio.png\">"
   ]
  },
  {
   "attachments": {},
   "cell_type": "markdown",
   "metadata": {},
   "source": [
    "La función Softmax se implementa en la última capa de las redes de clasificación debido a que esta nos arroja la distribución de probabilidad es decir que arroja valores entre 0 y 1 con lo que se determina a que clase pertenece los datos. <b>K</b> se refiere al numero de clases y <b>x</b> es el dato de entrada. Para nuestro caso K sería igual a 10.\n",
    "\n",
    "$$S(x_i) = \\frac{e^{x_i}}{\\sum_{j=1}^{K}x_{j}}$$"
   ]
  },
  {
   "attachments": {},
   "cell_type": "markdown",
   "metadata": {},
   "source": [
    "La función Relu se suele usar ampliamente en las capas ocultas de las redes neuronales, esta funcion deja pasar todo los valores positivos. Es importante tener en cuenta la derivada de las funciones de activación de las capas escondida debido a que con estas se calculará la propagación hacia atrás.\n",
    "\n",
    "$$ Relu(x)= {  \\begin{array}{lcc}\n",
    "             0 &   si  & x \\leq 0 \\\\\n",
    "             \\\\ x &  si  & x > 0\n",
    "             \\end{array}}\n",
    "  \n",
    "   $$\n",
    "\n",
    "   $$ deRelu(x)= {  \\begin{array}{lcc}\n",
    "             0 &   si  & x \\leq 0 \\\\\n",
    "             \\\\ 1 &  si  & x > 0\n",
    "             \\end{array}}\n",
    "  \n",
    "   $$"
   ]
  },
  {
   "attachments": {},
   "cell_type": "markdown",
   "metadata": {},
   "source": [
    "La función sigmoide se suele usar en las capas ocultas y esta permite acotar los valores entre 0 y 1. Para el caso de regresión donde fue usada es especialmente útil ya que no es lineal, lo que permite simular la función Seno solo con una capa.\n",
    "\n",
    "\n",
    "$$\\sigma(x) = \\frac{1}{1 + e^{-x}}$$\n",
    "$$dev\\sigma(x) = \\sigma(x)(1-\\sigma(x))$$"
   ]
  },
  {
   "attachments": {},
   "cell_type": "markdown",
   "metadata": {},
   "source": [
    "### Propagación hacia adelante"
   ]
  },
  {
   "attachments": {},
   "cell_type": "markdown",
   "metadata": {},
   "source": [
    "La propagación hacia adelante se refiere a las operaciones matematicas que se deben realiazar para obtener una salida de la red neuronal, es tan fácil como ir recorriendo capa por capa, otro detalle importante es que aquí las variables son matrices por lo que se debe prestar especial atención en las dimensiones de las matrices.\n",
    "\n",
    "$$z_1 = W_1 X + b_1$$\n",
    "\n",
    "$$a_1 = ReLU(z_1) $$\n",
    "\n",
    "$$z_2 = W_2 a_1 + b_2$$\n",
    "\n",
    "$$a_2 = S(z_2)$$\n"
   ]
  },
  {
   "attachments": {},
   "cell_type": "markdown",
   "metadata": {},
   "source": [
    "Para el caso de regresión vemos que la red tendría esta forma, es el mismo concepto pero hay dos cambios importantes, la función de activación se cambió de Relu a sigmoide y la última capa no hay activación, estos cambios son debido a que primero al tener solo una capa y pretender que la red pueda aprender una función como el Seno, es muy dificil lograrlo con Relu, al fin al cabo Relu sigue siendo una función lineal sin la parte negativa, por otro lado en la salida de la red no es necesario tener una función de activación debido a que no se necesita limitar el valor de salida. "
   ]
  },
  {
   "attachments": {},
   "cell_type": "markdown",
   "metadata": {},
   "source": [
    "$$z_1 = W_1 X + b_1$$\n",
    "\n",
    "$$a_1 = \\sigma(z_1) $$\n",
    "\n",
    "$$z_2 = W_2 a_1 + b_2$$\n",
    "\n"
   ]
  },
  {
   "attachments": {},
   "cell_type": "markdown",
   "metadata": {},
   "source": [
    "<img src=\"images\\red_explicacion.png\">"
   ]
  },
  {
   "attachments": {},
   "cell_type": "markdown",
   "metadata": {},
   "source": [
    "### Propagación hacia atrás"
   ]
  },
  {
   "attachments": {},
   "cell_type": "markdown",
   "metadata": {},
   "source": [
    "Antes de explicar la propagación hacia atrás es importante saber ¿cómo la red sabe que está aprendiendo? Esto se responde con la función de costo, está función lo que permite es medir que tan diferente es la salida de la red con los valores esperados, y esta función es diferente dependiendo de la finalidad de la red. Para este cuaderno se utilizó la entropia cruzada para la red de clasificación y el error cuadratico medio para la red de regresión.\n",
    "\n",
    "Las ecuaciones de la perdidas para clasificación y regresión son las siguientes respectivamente:"
   ]
  },
  {
   "attachments": {},
   "cell_type": "markdown",
   "metadata": {},
   "source": [
    "\n",
    "\n",
    "\n",
    "$$ \\mathcal{L}(\\hat{y}^{i}, y^{i}) =  - y^{i}  \\ln(\\hat{y}^{i}) = -\\ln(\\hat{y}^i)$$\n",
    "\n",
    "\n",
    "\n",
    "\n"
   ]
  },
  {
   "attachments": {},
   "cell_type": "markdown",
   "metadata": {},
   "source": [
    "$$ \\mathcal{L} = \\frac{1}{N}\\sum_{j=1}^{K}(y_i - \\hat{y}_i)^{2}$$"
   ]
  },
  {
   "attachments": {},
   "cell_type": "markdown",
   "metadata": {},
   "source": [
    "Ahora, la red no usa esta ecuaciones sino sus derivadas debido a que lo que se desea es minimizar la función de perdida. La derivada de la función es algo larga de desarrollar sin embargo su resultado es bastante simple."
   ]
  },
  {
   "attachments": {},
   "cell_type": "markdown",
   "metadata": {},
   "source": [
    "$$ \\frac{\\partial L}{\\partial z_2} = y - \\hat{y} $$"
   ]
  },
  {
   "attachments": {},
   "cell_type": "markdown",
   "metadata": {},
   "source": [
    "La derivada de la funcion de coste se evalua al mismo tiempo que la función de activación de la red, como se observa el resultado es una simple resta.\n",
    "\n",
    "El objetivo del entrenamiento es que con la función de costo se ajusten los pesos y los offset, por lo tanto el resultado esperable es obtener la derivada de la función de coste con respecto a los pesos y offset. Para obtener esto se seguirá este mismo procedimiento, que consiste ir obteniendo las derivadas parciales siguiendo el camino de la red neuronal simplificada(la regla de la cadena)."
   ]
  },
  {
   "attachments": {},
   "cell_type": "markdown",
   "metadata": {},
   "source": [
    "<img src=\"images\\dl_dz.png\">\n"
   ]
  },
  {
   "attachments": {},
   "cell_type": "markdown",
   "metadata": {},
   "source": [
    "por ejemplo una vez obtenido la derivada parcial de la función de coste con respecto a la Z2, quedan los siguientes caminos:\n",
    "\n",
    "- Obtener la derivada de Z2 con respecto a los pesos W2\n",
    "- Obtener la derivada de Z2 con respecto a el offset b2\n",
    "- Obtener la derivada Z2 con respecto a a1"
   ]
  },
  {
   "attachments": {},
   "cell_type": "markdown",
   "metadata": {},
   "source": [
    "Comenzamos con W2 y b1 debido a que estas nos van a permitir hallar las primeras derivadas parciales que necesitamos ajustar los pesos."
   ]
  },
  {
   "attachments": {},
   "cell_type": "markdown",
   "metadata": {},
   "source": [
    "\n",
    "$$ Z_2 =  a_1 W_2 + b_2$$\n",
    "$$ \\frac{\\partial z_2}{\\partial W_2} = a_1 $$"
   ]
  },
  {
   "attachments": {},
   "cell_type": "markdown",
   "metadata": {},
   "source": [
    "Es importante notar que la función que se deriva parcialmente es la que tiene relación con estas dos variables, en este caso sería la neruona."
   ]
  },
  {
   "attachments": {},
   "cell_type": "markdown",
   "metadata": {},
   "source": [
    "<img src=\"images\\dz_w2.png\">\n"
   ]
  },
  {
   "attachments": {},
   "cell_type": "markdown",
   "metadata": {},
   "source": [
    "\n",
    "$$ Z_2 =  a_1 W_2 + b_2$$\n",
    "$$ \\frac{\\partial z_2}{\\partial b_2} = 1 $$"
   ]
  },
  {
   "attachments": {},
   "cell_type": "markdown",
   "metadata": {},
   "source": [
    "<img src=\"images\\dz_2.png\">"
   ]
  },
  {
   "attachments": {},
   "cell_type": "markdown",
   "metadata": {},
   "source": [
    "Con los primeras derivadas de los pesos y offset hallados ya se puede armar la primera derivadas, para ello se debe hacer uso de la regla de la cadena, que de manera sencilla solo debemos seguir el camino de la derivadas que hemos hecho hasta llegar a la variable que desemanos evaluar.\n"
   ]
  },
  {
   "attachments": {},
   "cell_type": "markdown",
   "metadata": {},
   "source": [
    "$$ \\frac{\\partial L}{\\partial W_2} = \\frac{\\partial z_2}{\\partial W_2} \\frac{\\partial L}{\\partial z_2}$$"
   ]
  },
  {
   "attachments": {},
   "cell_type": "markdown",
   "metadata": {},
   "source": [
    "$$  \\frac{\\partial L}{\\partial W_2} =  a_1 (y - \\hat{y}) $$  "
   ]
  },
  {
   "attachments": {},
   "cell_type": "markdown",
   "metadata": {},
   "source": [
    "$$ \\frac{\\partial L}{\\partial b_2} = \\frac{\\partial z_2}{\\partial b_2} \\frac{\\partial L}{\\partial z_2}$$"
   ]
  },
  {
   "attachments": {},
   "cell_type": "markdown",
   "metadata": {},
   "source": [
    "$$  \\frac{\\partial L}{\\partial b_2} =  (y - \\hat{y}) $$  "
   ]
  },
  {
   "attachments": {},
   "cell_type": "markdown",
   "metadata": {},
   "source": [
    "Ahora se procederá con el camino faltante:"
   ]
  },
  {
   "attachments": {},
   "cell_type": "markdown",
   "metadata": {},
   "source": [
    "\n",
    "$$ Z_2 =  a_1 W_2 + b_2$$\n",
    "$$ \\frac{\\partial z_2}{\\partial a_1} = W_2 $$"
   ]
  },
  {
   "attachments": {},
   "cell_type": "markdown",
   "metadata": {},
   "source": [
    "<img src=\"images\\dz2_da1.png\">"
   ]
  },
  {
   "attachments": {},
   "cell_type": "markdown",
   "metadata": {},
   "source": [
    "Siguiendo el camino, se debe derivar la función de activación Relu:"
   ]
  },
  {
   "attachments": {},
   "cell_type": "markdown",
   "metadata": {},
   "source": [
    "$$ a_1 = {  \\begin{array}{lcc}\n",
    "             0 &   si  & z_1 \\leq 0 \\\\\n",
    "             \\\\ z_1 &  si  & z_1 > 0\n",
    "             \\end{array}}\n",
    "  \n",
    "   $$\n",
    "\n",
    "   $$ \\frac{\\partial a_1}{\\partial z_1} = {  \\begin{array}{lcc}\n",
    "             0 &   si  & z_1 \\leq 0 \\\\\n",
    "             \\\\ 1 &  si  & z_1 > 0\n",
    "             \\end{array}}\n",
    "  \n",
    "   $$"
   ]
  },
  {
   "attachments": {},
   "cell_type": "markdown",
   "metadata": {},
   "source": [
    "<img src=\"images\\da1_dz1.png\">"
   ]
  },
  {
   "attachments": {},
   "cell_type": "markdown",
   "metadata": {},
   "source": [
    "Ahora solo quedan dos caminos que nos interesa W1 y b1, debido a que no hay mas matrices de pesos."
   ]
  },
  {
   "attachments": {},
   "cell_type": "markdown",
   "metadata": {},
   "source": [
    "\n",
    "$$ Z_1 =  X W_1 + b_1$$\n",
    "$$ \\frac{\\partial z_1}{\\partial W_1} = X $$"
   ]
  },
  {
   "attachments": {},
   "cell_type": "markdown",
   "metadata": {},
   "source": [
    "$$ Z_1 =  X W_1 + b_1$$\n",
    "$$ \\frac{\\partial z_1}{\\partial b_1} = 1 $$"
   ]
  },
  {
   "attachments": {},
   "cell_type": "markdown",
   "metadata": {},
   "source": [
    "<img src=\"images\\dz1_dw1.png\">"
   ]
  },
  {
   "attachments": {},
   "cell_type": "markdown",
   "metadata": {},
   "source": [
    "<img src=\"images\\dz1_db1.png\">"
   ]
  },
  {
   "attachments": {},
   "cell_type": "markdown",
   "metadata": {},
   "source": [
    "Para finalizar, usando la regla de la cadena tenemos:"
   ]
  },
  {
   "attachments": {},
   "cell_type": "markdown",
   "metadata": {},
   "source": [
    "$$ \\frac{\\partial L}{\\partial W_1} = \\frac{\\partial z_2}{\\partial a_1} \\frac{\\partial L}{\\partial z_2} \\frac{\\partial a_1}{\\partial z_1} \\frac{\\partial z_1}{\\partial W_1}  $$"
   ]
  },
  {
   "attachments": {},
   "cell_type": "markdown",
   "metadata": {},
   "source": [
    "$$ \\frac{\\partial L}{\\partial b_1} = \\frac{\\partial z_2}{\\partial a_1} \\frac{\\partial L}{\\partial z_2} \\frac{\\partial a_1}{\\partial z_1} \\frac{\\partial z_1}{\\partial b_1}  $$"
   ]
  },
  {
   "attachments": {},
   "cell_type": "markdown",
   "metadata": {},
   "source": [
    "# Red neuronal desde cero para problemas de clasificación"
   ]
  },
  {
   "attachments": {},
   "cell_type": "markdown",
   "metadata": {},
   "source": [
    "### Importar librerías"
   ]
  },
  {
   "cell_type": "code",
   "execution_count": 1,
   "metadata": {},
   "outputs": [],
   "source": [
    "import numpy as np\n",
    "import mnist\n",
    "import matplotlib.pyplot as plt\n",
    "%matplotlib inline"
   ]
  },
  {
   "attachments": {},
   "cell_type": "markdown",
   "metadata": {},
   "source": [
    "### Importar MNIST "
   ]
  },
  {
   "cell_type": "code",
   "execution_count": 2,
   "metadata": {},
   "outputs": [],
   "source": [
    "# Se establece una semilla para que el random de los mismo resultados\n",
    "np.random.seed(seed=1)"
   ]
  },
  {
   "cell_type": "code",
   "execution_count": 3,
   "metadata": {},
   "outputs": [],
   "source": [
    "x_train_num = mnist.train_images()\n",
    "y_train_num = mnist.train_labels()\n",
    "\n",
    "x_test_num = mnist.test_images()\n",
    "y_test_num = mnist.test_labels()"
   ]
  },
  {
   "cell_type": "code",
   "execution_count": 4,
   "metadata": {},
   "outputs": [
    {
     "data": {
      "text/plain": [
       "(10000, 28, 28)"
      ]
     },
     "execution_count": 4,
     "metadata": {},
     "output_type": "execute_result"
    }
   ],
   "source": [
    "x_test_num.shape"
   ]
  },
  {
   "attachments": {},
   "cell_type": "markdown",
   "metadata": {},
   "source": [
    "### Convertir imágenes en vectores, y a float32"
   ]
  },
  {
   "cell_type": "code",
   "execution_count": 5,
   "metadata": {},
   "outputs": [
    {
     "name": "stderr",
     "output_type": "stream",
     "text": [
      "C:\\Users\\santiago.duque\\AppData\\Roaming\\Python\\Python37\\site-packages\\ipykernel_launcher.py:4: DeprecationWarning: `np.float` is a deprecated alias for the builtin `float`. To silence this warning, use `float` by itself. Doing this will not modify any behavior and is safe. If you specifically wanted the numpy scalar type, use `np.float64` here.\n",
      "Deprecated in NumPy 1.20; for more details and guidance: https://numpy.org/devdocs/release/1.20.0-notes.html#deprecations\n",
      "  after removing the cwd from sys.path.\n",
      "C:\\Users\\santiago.duque\\AppData\\Roaming\\Python\\Python37\\site-packages\\ipykernel_launcher.py:7: DeprecationWarning: `np.float` is a deprecated alias for the builtin `float`. To silence this warning, use `float` by itself. Doing this will not modify any behavior and is safe. If you specifically wanted the numpy scalar type, use `np.float64` here.\n",
      "Deprecated in NumPy 1.20; for more details and guidance: https://numpy.org/devdocs/release/1.20.0-notes.html#deprecations\n",
      "  import sys\n"
     ]
    }
   ],
   "source": [
    "x_train = x_train_num[:50000].reshape(50000, -1).astype(np.float32)/255\n",
    "y_train = y_train_num[:50000].reshape(50000, 1)\n",
    "\n",
    "x_val = x_train_num[50000:].reshape(10000, -1).astype(np.float)/255\n",
    "y_val = y_train_num[50000:].reshape(10000, 1)\n",
    "\n",
    "x_test = x_test_num.copy().reshape(10000, -1).astype(np.float)/255\n",
    "y_test = y_test_num.copy().reshape(10000, 1)"
   ]
  },
  {
   "cell_type": "code",
   "execution_count": 6,
   "metadata": {},
   "outputs": [
    {
     "name": "stdout",
     "output_type": "stream",
     "text": [
      "(50000, 784)\n",
      "(50000, 1)\n",
      "(10000, 784)\n",
      "(10000, 1)\n",
      "(10000, 784)\n",
      "(10000, 1)\n"
     ]
    }
   ],
   "source": [
    "print(x_train.shape) #shape (50000, 784)\n",
    "print(y_train.shape) #shape (50000, 1)\n",
    "\n",
    "print(x_val.shape)\n",
    "print(y_val.shape)\n",
    "\n",
    "print(x_test.shape)\n",
    "print(y_test.shape)\n"
   ]
  },
  {
   "attachments": {},
   "cell_type": "markdown",
   "metadata": {},
   "source": [
    "### Mostrar libreria"
   ]
  },
  {
   "cell_type": "code",
   "execution_count": 7,
   "metadata": {},
   "outputs": [],
   "source": [
    "def plot_number(image):\n",
    "    plt.imshow(image.squeeze(), cmap=plt.get_cmap('gray'))\n",
    "    plt.axis('off')\n",
    "    plt.show()"
   ]
  },
  {
   "cell_type": "code",
   "execution_count": 8,
   "metadata": {},
   "outputs": [
    {
     "name": "stdout",
     "output_type": "stream",
     "text": [
      "La imagen muestreada representa un: [9]\n"
     ]
    },
    {
     "data": {
      "image/png": "[encoded data removed]",
      "text/plain": [
       "<Figure size 640x480 with 1 Axes>"
      ]
     },
     "metadata": {},
     "output_type": "display_data"
    }
   ],
   "source": [
    "rnd_idx = np.random.randint(len(y_test))\n",
    "print(f'La imagen muestreada representa un: {y_test[rnd_idx]}')\n",
    "plot_number(x_test_num[rnd_idx])"
   ]
  },
  {
   "attachments": {},
   "cell_type": "markdown",
   "metadata": {},
   "source": [
    "### Funciones de la red de clasificación"
   ]
  },
  {
   "cell_type": "code",
   "execution_count": 10,
   "metadata": {},
   "outputs": [],
   "source": [
    "def shuffle_data(mb_size, x, y, shuffle = True):\n",
    "    '''\n",
    "    x  #muestras, 784\n",
    "    y #muestras, 1\n",
    "    '''\n",
    "    assert x.shape[0] == y.shape[0], 'Error en cantidad de muestras'\n",
    "    total_data = x.shape[0]\n",
    "    if shuffle: \n",
    "        idxs = np.arange(total_data)\n",
    "        np.random.shuffle(idxs)\n",
    "        x = x[idxs]\n",
    "        y = y[idxs]\n",
    "        \n",
    "    return x, y"
   ]
  },
  {
   "cell_type": "code",
   "execution_count": 11,
   "metadata": {},
   "outputs": [],
   "source": [
    "def init_parameters(input_size, neurons):\n",
    "    \n",
    "    W1 = np.random.randn(neurons[0], input_size) * 0.001\n",
    "    b1 = np.zeros((neurons[0], 1))\n",
    "    \n",
    "    W2 = np.random.randn(neurons[1], neurons[0]) * 0.001\n",
    "    b2 = np.zeros((neurons[1], 1))\n",
    "    \n",
    "    return {'W1': W1, 'b1':b1, 'W2':W2, 'b2':b2}"
   ]
  },
  {
   "cell_type": "code",
   "execution_count": 12,
   "metadata": {},
   "outputs": [],
   "source": [
    "def relu(x):\n",
    "    return np.maximum(0, x)"
   ]
  },
  {
   "cell_type": "code",
   "execution_count": 13,
   "metadata": {},
   "outputs": [],
   "source": [
    "def softmax(x):\n",
    "    exp_scores = np.exp(x)\n",
    "    sum_exp_scores = np.sum(exp_scores, axis=0)\n",
    "    probs = exp_scores/sum_exp_scores\n",
    "    return probs"
   ]
  },
  {
   "cell_type": "code",
   "execution_count": 14,
   "metadata": {},
   "outputs": [],
   "source": [
    "def forward(x, parameters, activation_fcn):\n",
    "    '''\n",
    "    x tiene la forma (#pixeles, num samples)\n",
    "    '''\n",
    "    z1 = parameters['W1'] @ x + parameters['b1']\n",
    "    a1 = activation_fcn(z1) # devuel fcn. de activa.\n",
    "    z2 = parameters['W2'] @ a1 + parameters['b2']\n",
    "    a2 = softmax(z2)\n",
    "    \n",
    "    return z2, z1, a1, a2"
   ]
  },
  {
   "cell_type": "code",
   "execution_count": 15,
   "metadata": {},
   "outputs": [],
   "source": [
    "def x_entropy(y_hat, y, batch_size=64):\n",
    "    \n",
    "    y_hat = y_hat[y.squeeze(), np.arange(batch_size)]\n",
    "    cost = np.sum(-np.log(y_hat)) / batch_size\n",
    "    \n",
    "    return cost"
   ]
  },
  {
   "cell_type": "code",
   "execution_count": 16,
   "metadata": {},
   "outputs": [],
   "source": [
    "def backward(a2, x, y, z1, a1, z2, parameters, batch_size=64):\n",
    "    grads = {}\n",
    "    a2[y.squeeze(), np.arange(batch_size)] -= 1 # y-hat - y\n",
    "    dl_dz2 = a2.copy()\n",
    "    \n",
    "    dl_dW2 = dl_dz2 @ a1.T / batch_size\n",
    "    dl_db2 = np.sum(dl_dz2, axis =1, keepdims=True) / batch_size\n",
    "    dl_da1 = parameters['W2'].T @ dl_dz2\n",
    "    \n",
    "    dl_dz1 = dl_da1.copy()\n",
    "    dl_dz1[z1 <= 0 ] =0\n",
    "    \n",
    "    dl_dW1 = dl_dz1 @ x \n",
    "    dl_db1 = np.sum(dl_dz1, axis=1, keepdims=True) \n",
    "    \n",
    "    assert parameters['W1'].shape == dl_dW1.shape, 'W1 no igual forma'\n",
    "    assert parameters['W2'].shape == dl_dW2.shape, 'W2 no igual forma'\n",
    "    assert parameters['b1'].shape == dl_db1.shape, 'b1 no igual forma'\n",
    "    assert parameters['b2'].shape == dl_db2.shape, 'b2 no igual forma'\n",
    "    \n",
    "    grads = {'w1':dl_dW1,  'b1':dl_db1, 'W2':dl_dW2, 'b2':dl_db2}\n",
    "    \n",
    "    return grads\n",
    "    \n",
    "    "
   ]
  },
  {
   "cell_type": "code",
   "execution_count": 17,
   "metadata": {},
   "outputs": [],
   "source": [
    "def accuracy(x_data, y_data, parameters, mb_size=64):\n",
    "    correct = 0\n",
    "    total = 0\n",
    "    \n",
    "    for i in range(0,x_data.shape[0],mb_size):\n",
    "\n",
    "        x = x_data[i:i+mb_size]\n",
    "        y = y_data[i:i+mb_size]\n",
    "    \n",
    "        _ ,_, _, y_hat = forward(x.T, parameters, relu)\n",
    "        \n",
    "        \n",
    "        correct += np.sum(np.argmax(y_hat, axis=0) == y.squeeze())\n",
    "        total += y_hat.shape[1]\n",
    "        \n",
    "    return correct/total"
   ]
  },
  {
   "cell_type": "code",
   "execution_count": 18,
   "metadata": {
    "code_folding": []
   },
   "outputs": [],
   "source": [
    "def train(epochs, x_train, y_train, parameters, mb_size=64, learning_rate = 1e-3):\n",
    "    for epoch in range(epochs):\n",
    "        for i in range(0,x_train.shape[0],mb_size):\n",
    "            x = x_train[i:i+mb_size]\n",
    "            y = y_train[i:i+mb_size]\n",
    "            z2, z1, a1, y_hat = forward(x.T, parameters=parameters, activation_fcn=relu)\n",
    "            cost = x_entropy(y_hat, y, batch_size=len(x))\n",
    "            grads = backward(y_hat, x, y, z1, a1, z2, parameters, batch_size=len(x))\n",
    "            \n",
    "            parameters['W1'] = parameters['W1'] - learning_rate*grads['w1']\n",
    "            parameters['b1'] = parameters['b1'] - learning_rate*grads['b1']\n",
    "            parameters['b2'] = parameters['b2'] - learning_rate*grads['b2']\n",
    "            parameters['W2'] = parameters['W2'] - learning_rate*grads['W2']\n",
    "            \n",
    "        print(f'epoch: {epoch}, costo es: {cost}, y accuracy: {accuracy(x_val, y_val, parameters,mb_size)}')\n",
    "    return parameters\n",
    "    "
   ]
  },
  {
   "attachments": {},
   "cell_type": "markdown",
   "metadata": {},
   "source": [
    "### Declaración de parametros y entrenamiento de función"
   ]
  },
  {
   "cell_type": "code",
   "execution_count": 19,
   "metadata": {},
   "outputs": [
    {
     "name": "stdout",
     "output_type": "stream",
     "text": [
      "(200, 784)\n",
      "(10, 200)\n",
      "(10, 1)\n"
     ]
    }
   ],
   "source": [
    "parameters = init_parameters(28*28, [200, 10])\n",
    "print(parameters['W1'].shape)\n",
    "print(parameters['W2'].shape)\n",
    "print(parameters['b2'].shape)"
   ]
  },
  {
   "cell_type": "code",
   "execution_count": 20,
   "metadata": {},
   "outputs": [
    {
     "name": "stdout",
     "output_type": "stream",
     "text": [
      "epoch: 0, costo es: 0.5899405897283392, y accuracy: 0.8607\n",
      "epoch: 1, costo es: 0.4333531718553162, y accuracy: 0.8992\n",
      "epoch: 2, costo es: 0.37963420993813946, y accuracy: 0.9131\n",
      "epoch: 3, costo es: 0.34505849907913994, y accuracy: 0.9225\n",
      "epoch: 4, costo es: 0.31739801444121385, y accuracy: 0.9293\n",
      "epoch: 5, costo es: 0.29572468178235534, y accuracy: 0.9346\n",
      "epoch: 6, costo es: 0.27831340130879667, y accuracy: 0.9407\n",
      "epoch: 7, costo es: 0.2628579643998762, y accuracy: 0.9454\n",
      "epoch: 8, costo es: 0.24852370398298382, y accuracy: 0.9494\n",
      "epoch: 9, costo es: 0.23553890833708474, y accuracy: 0.952\n",
      "epoch: 10, costo es: 0.22353344370320388, y accuracy: 0.9548\n",
      "epoch: 11, costo es: 0.2121500198295773, y accuracy: 0.957\n",
      "epoch: 12, costo es: 0.2023274738501744, y accuracy: 0.9593\n",
      "epoch: 13, costo es: 0.19279909139199394, y accuracy: 0.9606\n",
      "epoch: 14, costo es: 0.18379809935487024, y accuracy: 0.962\n",
      "epoch: 15, costo es: 0.17589848741909828, y accuracy: 0.9628\n",
      "epoch: 16, costo es: 0.1685374797027314, y accuracy: 0.9641\n",
      "epoch: 17, costo es: 0.16123583252435122, y accuracy: 0.9651\n",
      "epoch: 18, costo es: 0.15468759884507938, y accuracy: 0.966\n",
      "epoch: 19, costo es: 0.14819349633514803, y accuracy: 0.9672\n"
     ]
    }
   ],
   "source": [
    "mb_size = 512\n",
    "learning_rate = 1e-2\n",
    "epochs = 20\n",
    "parameters = train(epochs=epochs, x_train=x_train, y_train=y_train, parameters=parameters, mb_size=mb_size, learning_rate=learning_rate)"
   ]
  },
  {
   "attachments": {},
   "cell_type": "markdown",
   "metadata": {},
   "source": [
    "### Evaluación"
   ]
  },
  {
   "cell_type": "code",
   "execution_count": 21,
   "metadata": {},
   "outputs": [
    {
     "data": {
      "text/plain": [
       "0.97026"
      ]
     },
     "execution_count": 21,
     "metadata": {},
     "output_type": "execute_result"
    }
   ],
   "source": [
    "accuracy(x_train, y_train, parameters, mb_size)"
   ]
  },
  {
   "cell_type": "code",
   "execution_count": 22,
   "metadata": {},
   "outputs": [
    {
     "data": {
      "text/plain": [
       "0.9652"
      ]
     },
     "execution_count": 22,
     "metadata": {},
     "output_type": "execute_result"
    }
   ],
   "source": [
    "accuracy(x_test, y_test, parameters, mb_size)"
   ]
  },
  {
   "cell_type": "code",
   "execution_count": 23,
   "metadata": {},
   "outputs": [],
   "source": [
    "def predict(x, parameters):\n",
    "    scores2, _, _,_ = forward(x, parameters, relu)\n",
    "    return np.argmax(scores2)"
   ]
  },
  {
   "cell_type": "code",
   "execution_count": 24,
   "metadata": {},
   "outputs": [
    {
     "data": {
      "text/plain": [
       "(784, 1)"
      ]
     },
     "execution_count": 24,
     "metadata": {},
     "output_type": "execute_result"
    }
   ],
   "source": [
    "x_test[0].reshape(-1, 1).shape"
   ]
  },
  {
   "cell_type": "code",
   "execution_count": 25,
   "metadata": {},
   "outputs": [
    {
     "data": {
      "image/png": "[encoded data removed]",
      "text/plain": [
       "<Figure size 640x480 with 1 Axes>"
      ]
     },
     "metadata": {},
     "output_type": "display_data"
    },
    {
     "name": "stdout",
     "output_type": "stream",
     "text": [
      "el valor predicho es: 4\n"
     ]
    }
   ],
   "source": [
    "idx = np.random.randint(len(y_test))\n",
    "plot_number(x_test_num[idx])\n",
    "pred = predict(x_test[idx].reshape(-1, 1), parameters)\n",
    "print(f'el valor predicho es: {pred}')"
   ]
  },
  {
   "attachments": {},
   "cell_type": "markdown",
   "metadata": {},
   "source": [
    "# Red neuronal desde cero para problemas de regresión\n"
   ]
  },
  {
   "attachments": {},
   "cell_type": "markdown",
   "metadata": {},
   "source": [
    "### Generar datos de entrenamiento"
   ]
  },
  {
   "cell_type": "code",
   "execution_count": 26,
   "metadata": {},
   "outputs": [],
   "source": [
    "# Generar datos de entrenamiento\n",
    "\n",
    "x_train = np.arange(0, 2*np.pi, 0.1)\n",
    "y_train = np.sin(x_train)"
   ]
  },
  {
   "cell_type": "code",
   "execution_count": 27,
   "metadata": {},
   "outputs": [
    {
     "name": "stdout",
     "output_type": "stream",
     "text": [
      "(16, 1)\n",
      "(1, 16)\n",
      "(1, 1)\n"
     ]
    }
   ],
   "source": [
    "parameters = init_parameters(1, [16, 1])\n",
    "print(parameters['W1'].shape)\n",
    "print(parameters['W2'].shape)\n",
    "print(parameters['b2'].shape)"
   ]
  },
  {
   "attachments": {},
   "cell_type": "markdown",
   "metadata": {},
   "source": [
    "### Funciones de la red de regresión"
   ]
  },
  {
   "cell_type": "code",
   "execution_count": 28,
   "metadata": {},
   "outputs": [],
   "source": [
    "def relu(x):\n",
    "    return np.maximum(0, x)\n",
    "\n",
    "def relu_derivative(x):\n",
    "    return np.where(x > 0, 1, 0)\n"
   ]
  },
  {
   "cell_type": "code",
   "execution_count": 29,
   "metadata": {},
   "outputs": [],
   "source": [
    "def sigmoid(x):\n",
    "  \n",
    "    z = np.exp(-x)\n",
    "    sig = 1 / (1 + z)\n",
    "\n",
    "    return sig\n",
    "\n",
    "def sigmoid_derivada(x):\n",
    "\n",
    "    return sigmoid(x)*(1-sigmoid(x))"
   ]
  },
  {
   "cell_type": "code",
   "execution_count": 30,
   "metadata": {},
   "outputs": [],
   "source": [
    "input_size = 1\n",
    "hidden_size = 64\n",
    "output_size = 1\n",
    "learning_rate = 0.001\n",
    "epochs = 10000\n",
    "mb_size = 1"
   ]
  },
  {
   "cell_type": "code",
   "execution_count": 31,
   "metadata": {},
   "outputs": [],
   "source": [
    "w_hidden = np.random.randn(hidden_size, input_size)\n",
    "w_out = np.random.randn(output_size, hidden_size)\n"
   ]
  },
  {
   "cell_type": "code",
   "execution_count": 32,
   "metadata": {},
   "outputs": [],
   "source": [
    "def mse_loss(y_pred, y_true):\n",
    "    return np.mean((y_pred - y_true) ** 2)"
   ]
  },
  {
   "cell_type": "code",
   "execution_count": 33,
   "metadata": {},
   "outputs": [],
   "source": [
    "def fordward(x, w_hidden, w_out):\n",
    "\n",
    "    z_hidden = np.dot(w_hidden, x)\n",
    "    y_hidden = sigmoid(z_hidden)\n",
    "    z_out = np.dot(w_out, y_hidden)\n",
    "    \n",
    "\n",
    "    return z_hidden, y_hidden, z_out"
   ]
  },
  {
   "cell_type": "code",
   "execution_count": 34,
   "metadata": {},
   "outputs": [],
   "source": [
    "def backward(x, y_true, w_hidden, w_out):\n",
    "    # Forward pass\n",
    "    \n",
    "    z_hidden, y_hidden, z_out = fordward(x, w_hidden, w_out)\n",
    "\n",
    "    y_pred = z_out\n",
    "\n",
    "    # Backward pass\n",
    "    dL_dy_pred = 2 * (y_pred - y_true) / y_pred.size\n",
    "\n",
    "    dL_dz_out = dL_dy_pred\n",
    "    dL_dw_out = np.dot(dL_dz_out, y_hidden.T)\n",
    "\n",
    "    dL_dy_hidden = np.dot(w_out.T, dL_dz_out)\n",
    "    \n",
    "    dL_dz_hidden = dL_dy_hidden * sigmoid_derivada(z_hidden)\n",
    "    dL_dw_hidden = np.dot(dL_dz_hidden, x.T)\n",
    "\n",
    "    return dL_dw_out, dL_dw_hidden"
   ]
  },
  {
   "attachments": {},
   "cell_type": "markdown",
   "metadata": {},
   "source": [
    "### Generación de datos de entrenamiento"
   ]
  },
  {
   "cell_type": "code",
   "execution_count": 35,
   "metadata": {},
   "outputs": [],
   "source": [
    "# Generate the training data\n",
    "n_samples = 6000\n",
    "x_train = np.random.uniform(-np.pi, np.pi, (input_size, n_samples))\n",
    "y_train = np.sin(x_train)"
   ]
  },
  {
   "attachments": {},
   "cell_type": "markdown",
   "metadata": {},
   "source": [
    "### Declaración de parametros y entrenamiento de función"
   ]
  },
  {
   "cell_type": "code",
   "execution_count": 36,
   "metadata": {},
   "outputs": [
    {
     "name": "stdout",
     "output_type": "stream",
     "text": [
      "Epoch 0, loss: 9.4360\n",
      "Epoch 1000, loss: 0.0292\n",
      "Epoch 2000, loss: 0.0172\n",
      "Epoch 3000, loss: 0.0110\n",
      "Epoch 4000, loss: 0.0078\n",
      "Epoch 5000, loss: 0.0062\n",
      "Epoch 6000, loss: 0.0053\n",
      "Epoch 7000, loss: 0.0047\n",
      "Epoch 8000, loss: 0.0044\n",
      "Epoch 9000, loss: 0.0042\n"
     ]
    }
   ],
   "source": [
    "# Train the network\n",
    "for i in range(epochs):\n",
    "\n",
    "    z_hidden, y_hidden, y_pred = fordward(x_train, w_hidden, w_out)\n",
    "\n",
    "    dL_dw_out, dL_dw_hidden = backward(x_train, y_train, w_hidden, w_out)\n",
    "\n",
    "    w_hidden -= learning_rate * dL_dw_hidden\n",
    "    w_out -= learning_rate * dL_dw_out\n",
    "\n",
    "    #for j in range(0,x_train.shape[0],mb_size):\n",
    "       \n",
    "    #    x = x_train[j:j+mb_size]\n",
    "    #    y = y_train[j:j+mb_size]\n",
    "\n",
    "      \n",
    "        \n",
    "        # Update the weights\n",
    "        \n",
    "        \n",
    "    \n",
    "        \n",
    "        # Compute the loss\n",
    "    loss = mse_loss(y_pred, y_train)\n",
    "    if i % 1000  == 0:\n",
    "        print(f\"Epoch {i}, loss: {loss:.4f}\")\n",
    "\n"
   ]
  },
  {
   "cell_type": "code",
   "execution_count": 37,
   "metadata": {},
   "outputs": [
    {
     "name": "stdout",
     "output_type": "stream",
     "text": [
      "[[ 0.70110846  0.95805911  0.91047689 ... -0.80741953  0.50224032\n",
      "   0.3014685 ]]\n"
     ]
    }
   ],
   "source": [
    "_,_,y_pred = fordward(x_train.reshape(input_size, -1), w_hidden, w_out)\n",
    "print(y_pred)"
   ]
  },
  {
   "cell_type": "code",
   "execution_count": 38,
   "metadata": {},
   "outputs": [
    {
     "name": "stdout",
     "output_type": "stream",
     "text": [
      "[[ 0.77828728  0.99926841  0.9834522  ... -0.89564398  0.51194967\n",
      "   0.20548014]]\n"
     ]
    }
   ],
   "source": [
    "print(y_train)"
   ]
  },
  {
   "cell_type": "code",
   "execution_count": 39,
   "metadata": {},
   "outputs": [
    {
     "name": "stdout",
     "output_type": "stream",
     "text": [
      "0.0040557942395138555\n"
     ]
    }
   ],
   "source": [
    "loss = mse_loss(y_pred, y_train)\n",
    "print(loss)"
   ]
  },
  {
   "attachments": {},
   "cell_type": "markdown",
   "metadata": {},
   "source": [
    "### Evaluación"
   ]
  },
  {
   "cell_type": "code",
   "execution_count": 40,
   "metadata": {},
   "outputs": [
    {
     "data": {
      "image/png": "[encoded data removed]",
      "text/plain": [
       "<Figure size 640x480 with 1 Axes>"
      ]
     },
     "metadata": {},
     "output_type": "display_data"
    }
   ],
   "source": [
    "# Test the network\n",
    "x_test = np.linspace(-np.pi, np.pi, 100)\n",
    "y_test = np.sin(x_test)\n",
    "\n",
    "_,_,y_pred = fordward(x_test.reshape(input_size, -1), w_hidden, w_out)\n",
    "\n",
    "# Plot the results\n",
    "import matplotlib.pyplot as plt\n",
    "plt.plot(x_test, y_test, label=\"True function\")\n",
    "plt.plot(x_test, y_pred.flatten(), label=\"Predicted function\")\n",
    "plt.legend()\n",
    "plt.show()"
   ]
  },
  {
   "cell_type": "code",
   "execution_count": 41,
   "metadata": {},
   "outputs": [
    {
     "name": "stdout",
     "output_type": "stream",
     "text": [
      "0.0042746551760421934\n"
     ]
    }
   ],
   "source": [
    "print(mse_loss(y_pred, y_test))"
   ]
  }
 ],
 "metadata": {
  "kernelspec": {
   "display_name": "Python 3",
   "language": "python",
   "name": "python3"
  },
  "language_info": {
   "codemirror_mode": {
    "name": "ipython",
    "version": 3
   },
   "file_extension": ".py",
   "mimetype": "text/x-python",
   "name": "python",
   "nbconvert_exporter": "python",
   "pygments_lexer": "ipython3",
   "version": "3.7.8"
  },
  "varInspector": {
   "cols": {
    "lenName": 16,
    "lenType": 16,
    "lenVar": 40
   },
   "kernels_config": {
    "python": {
     "delete_cmd_postfix": "",
     "delete_cmd_prefix": "del ",
     "library": "var_list.py",
     "varRefreshCmd": "print(var_dic_list())"
    },
    "r": {
     "delete_cmd_postfix": ") ",
     "delete_cmd_prefix": "rm(",
     "library": "var_list.r",
     "varRefreshCmd": "cat(var_dic_list()) "
    }
   },
   "types_to_exclude": [
    "module",
    "function",
    "builtin_function_or_method",
    "instance",
    "_Feature"
   ],
   "window_display": false
  }
 },
 "nbformat": 4,
 "nbformat_minor": 4
}
